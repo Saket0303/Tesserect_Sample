{
 "cells": [
  {
   "cell_type": "code",
   "execution_count": 28,
   "id": "1ee1e02e",
   "metadata": {},
   "outputs": [],
   "source": [
    "import cv2\n",
    "import numpy as np\n",
    "from matplotlib import pyplot as plt\n",
    "\n",
    "img = cv2.imread('1.jpg')\n",
    "img2 = img.copy()\n",
    "gray = cv2.cvtColor(img, cv2.COLOR_BGR2GRAY)\n",
    "ret,thresh = cv2.threshold(gray,1,255,0)\n",
    "contours, hierarchy = cv2.findContours(thresh, cv2.RETR_TREE, cv2.CHAIN_APPROX_SIMPLE)"
   ]
  },
  {
   "cell_type": "code",
   "execution_count": 29,
   "id": "0b802b16",
   "metadata": {},
   "outputs": [
    {
     "data": {
      "image/png": "[encoded data removed]",
      "text/plain": [
       "<Figure size 432x288 with 1 Axes>"
      ]
     },
     "metadata": {
      "needs_background": "light"
     },
     "output_type": "display_data"
    }
   ],
   "source": [
    "plt.imshow(img2)\n",
    "plt.show()"
   ]
  },
  {
   "cell_type": "code",
   "execution_count": 30,
   "id": "1fa84857",
   "metadata": {},
   "outputs": [
    {
     "name": "stdout",
     "output_type": "stream",
     "text": [
      "164\n"
     ]
    }
   ],
   "source": [
    "print(len(contours))"
   ]
  },
  {
   "cell_type": "code",
   "execution_count": 31,
   "id": "87afa8a4",
   "metadata": {},
   "outputs": [
    {
     "name": "stdout",
     "output_type": "stream",
     "text": [
      "0 0 841 595\n",
      "735 569 26 3\n",
      "733 569 3 3\n",
      "676 569 3 3\n",
      "629 566 3 3\n",
      "765 565 3 3\n",
      "630 565 132 7\n",
      "680 568 25 2\n",
      "765 562 3 3\n",
      "761 562 3 3\n",
      "629 560 132 7\n",
      "670 524 19 3\n",
      "668 524 3 3\n",
      "572 524 4 3\n",
      "523 524 3 3\n",
      "687 523 3 3\n",
      "665 523 5 4\n",
      "522 523 3 3\n",
      "396 523 109 4\n",
      "390 523 4 3\n",
      "287 523 101 4\n",
      "668 522 21 4\n",
      "523 522 4 4\n",
      "399 522 109 4\n",
      "687 521 3 3\n",
      "574 520 94 6\n",
      "521 520 4 4\n",
      "667 519 3 5\n",
      "665 519 3 3\n",
      "663 519 3 3\n",
      "397 519 3 3\n",
      "138 519 3 3\n",
      "669 518 21 5\n",
      "398 518 3 3\n",
      "396 518 3 3\n",
      "280 518 3 3\n",
      "200 518 3 3\n",
      "475 517 3 3\n",
      "472 517 3 3\n",
      "395 517 3 3\n",
      "392 517 3 3\n",
      "474 516 3 3\n",
      "419 516 4 4\n",
      "394 516 3 3\n",
      "201 516 5 5\n",
      "473 515 3 3\n",
      "421 515 3 3\n",
      "418 515 3 3\n",
      "398 515 108 9\n",
      "393 515 3 3\n",
      "306 515 3 3\n",
      "281 515 4 4\n",
      "204 515 78 6\n",
      "204 515 3 4\n",
      "142 515 142 11\n",
      "138 515 47 12\n",
      "633 514 57 7\n",
      "475 514 162 13\n",
      "512 520 8 1\n",
      "419 514 3 3\n",
      "417 514 3 3\n",
      "395 514 23 6\n",
      "307 514 3 3\n",
      "305 514 3 3\n",
      "281 514 118 13\n",
      "395 521 1 2\n",
      "388 521 1 2\n",
      "307 519 1 1\n",
      "286 518 20 3\n",
      "283 514 4 5\n",
      "308 369 3 4\n",
      "114 369 3 3\n",
      "56 369 5 4\n",
      "119 368 187 4\n",
      "118 368 3 3\n",
      "116 368 3 4\n",
      "359 367 196 5\n",
      "56 366 3 3\n",
      "57 365 3 3\n",
      "552 364 3 4\n",
      "57 364 7 9\n",
      "56 364 3 3\n",
      "58 363 3 3\n",
      "552 362 3 3\n",
      "56 362 4 3\n",
      "767 358 3 3\n",
      "57 358 7 9\n",
      "767 356 3 3\n",
      "766 355 3 3\n",
      "60 355 3 3\n",
      "763 354 3 3\n",
      "761 354 8 6\n",
      "59 354 3 3\n",
      "763 351 3 3\n",
      "764 350 5 7\n",
      "761 350 4 6\n",
      "765 348 3 3\n",
      "766 347 3 3\n",
      "59 344 4 4\n",
      "60 342 4 4\n",
      "57 340 4 6\n",
      "58 336 6 7\n",
      "61 335 3 3\n",
      "58 335 3 3\n",
      "59 334 4 3\n",
      "738 333 3 3\n",
      "595 333 3 3\n",
      "474 333 3 3\n",
      "356 333 3 3\n",
      "219 333 3 3\n",
      "217 333 3 3\n",
      "187 333 3 3\n",
      "56 333 714 40\n",
      "352 369 1 1\n",
      "311 368 1 1\n",
      "113 368 1 1\n",
      "510 351 1 1\n",
      "507 351 1 1\n",
      "504 351 1 1\n",
      "504 349 1 1\n",
      "63 349 1 1\n",
      "504 347 1 1\n",
      "504 337 1 1\n",
      "504 336 8 14\n",
      "508 344 4 3\n",
      "507 343 3 3\n",
      "509 342 3 3\n",
      "508 341 3 3\n",
      "509 339 3 4\n",
      "509 337 3 3\n",
      "508 336 1 1\n",
      "506 336 1 3\n",
      "295 61 50 3\n",
      "289 61 4 3\n",
      "264 61 4 3\n",
      "343 60 3 3\n",
      "225 60 3 3\n",
      "292 58 54 6\n",
      "265 58 4 5\n",
      "268 56 3 4\n",
      "288 54 3 4\n",
      "229 54 37 10\n",
      "288 53 58 10\n",
      "289 53 4 3\n",
      "230 53 3 3\n",
      "225 53 3 3\n",
      "155 53 4 12\n",
      "268 52 3 4\n",
      "263 52 6 8\n",
      "231 52 34 3\n",
      "153 52 5 3\n",
      "103 52 50 3\n",
      "99 52 58 13\n",
      "268 51 21 14\n",
      "269 51 3 3\n",
      "163 51 65 14\n",
      "224 58 1 1\n",
      "161 51 7 14\n",
      "160 51 5 4\n",
      "75 51 5 4\n",
      "72 51 7 14\n",
      "59 51 18 14\n",
      "57 51 7 14\n",
      "56 51 5 4\n"
     ]
    }
   ],
   "source": [
    "for i in range(len(contours)):\n",
    "    x,y,w,h = cv2.boundingRect(contours[i])\n",
    "    print(x, y, w, h)\n",
    "    cv2.drawContours(img, contours, i, (0,255,0), 3)"
   ]
  },
  {
   "cell_type": "code",
   "execution_count": 32,
   "id": "c3d7114b",
   "metadata": {},
   "outputs": [
    {
     "data": {
      "image/png": "[encoded data removed]",
      "text/plain": [
       "<Figure size 432x288 with 1 Axes>"
      ]
     },
     "metadata": {
      "needs_background": "light"
     },
     "output_type": "display_data"
    }
   ],
   "source": [
    "plt.imshow(img)\n",
    "plt.show()"
   ]
  },
  {
   "cell_type": "code",
   "execution_count": 33,
   "id": "80ce751c",
   "metadata": {},
   "outputs": [
    {
     "name": "stdout",
     "output_type": "stream",
     "text": [
      "0 0 841 595\n",
      "142 515 142 11\n",
      "475 514 162 13\n",
      "281 514 118 13\n",
      "56 333 714 40\n"
     ]
    }
   ],
   "source": [
    "cnt = 0\n",
    "for i in range(len(contours)):\n",
    "    x,y,w,h = cv2.boundingRect(contours[i])\n",
    "    if w * h > 1000:\n",
    "        print(x, y, w, h)\n",
    "        cv2.drawContours(img2, contours, i, (0,255,0), 3)\n",
    "        cnt += 1"
   ]
  },
  {
   "cell_type": "code",
   "execution_count": 34,
   "id": "9d51f8e1",
   "metadata": {
    "scrolled": true
   },
   "outputs": [
    {
     "data": {
      "image/png": "[encoded data removed]",
      "text/plain": [
       "<Figure size 432x288 with 1 Axes>"
      ]
     },
     "metadata": {
      "needs_background": "light"
     },
     "output_type": "display_data"
    }
   ],
   "source": [
    "plt.imshow(img2)\n",
    "plt.show()"
   ]
  },
  {
   "cell_type": "code",
   "execution_count": null,
   "id": "f57edceb",
   "metadata": {},
   "outputs": [],
   "source": []
  },
  {
   "cell_type": "code",
   "execution_count": null,
   "id": "d1233560",
   "metadata": {},
   "outputs": [],
   "source": []
  }
 ],
 "metadata": {
  "kernelspec": {
   "display_name": "Python 3 (ipykernel)",
   "language": "python",
   "name": "python3"
  },
  "language_info": {
   "codemirror_mode": {
    "name": "ipython",
    "version": 3
   },
   "file_extension": ".py",
   "mimetype": "text/x-python",
   "name": "python",
   "nbconvert_exporter": "python",
   "pygments_lexer": "ipython3",
   "version": "3.8.8"
  }
 },
 "nbformat": 4,
 "nbformat_minor": 5
}
